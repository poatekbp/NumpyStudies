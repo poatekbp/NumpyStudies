{
  "cells": [
    {
      "cell_type": "markdown",
      "metadata": {
        "id": "f2YF2M_pcLDO"
      },
      "source": [
        "## Prática\n",
        "\n",
        "Este notebook serve para você praticar o que viu no livro.\n",
        "\n",
        "Pode haver mais de uma maneira diferente de completar um exercício.\n",
        "\n",
        "Os exercícios são baseados no conteúdo do livro.\n",
        "\n",
        "Para mais referências e recursos, fica a sugestão de consultar a [documentação do NumPy.](https://numpy.org/devdocs/user/index.html)"
      ]
    },
    {
      "cell_type": "code",
      "execution_count": 1,
      "metadata": {
        "id": "T9i_C7NRcHg0"
      },
      "outputs": [],
      "source": [
        "# Importe o numpy, utilize a abreviação 'np'\n",
        "import numpy as np"
      ]
    },
    {
      "cell_type": "markdown",
      "metadata": {},
      "source": [
        "Em vetores unidimensionais, utilizamos somente um par de colchetes. Para duas, dois pares e assim sucessivamente. \n",
        "1) Monte o array desejado.\n",
        "2) Se houver apenas uma dimensão, apenas abra e feche o par de colchetes.\n",
        "3) Se não, os pares de colchetes devem ter o mesmo número de dimensões do array."
      ]
    },
    {
      "cell_type": "code",
      "execution_count": 38,
      "metadata": {
        "id": "G7dHzE8PcnO3"
      },
      "outputs": [],
      "source": [
        "# Utilizando np.array() crie:\n",
        "# 1 array unidimensional \"vetor\"\n",
        "array1 = np.array([1,2,3])\n",
        "\n",
        "# 1 array de duas dimensões \"matrix\"\n",
        "array2 = np.array([[1,2,3], [4,5,6]])\n",
        "\n",
        "# 1 array de três dimensões\n",
        "array3 = np.array([[[1,2,3],[4,5,6],[7,8,9]]])"
      ]
    },
    {
      "cell_type": "markdown",
      "metadata": {},
      "source": [
        "* Por que ele só imprime, sem print, o último comando informado? "
      ]
    },
    {
      "cell_type": "code",
      "execution_count": 32,
      "metadata": {
        "id": "1fnZR3yMc6NG"
      },
      "outputs": [
        {
          "name": "stdout",
          "output_type": "stream",
          "text": [
            "[1 2 3]\n",
            "1\n",
            "<class 'numpy.ndarray'>\n",
            "3\n"
          ]
        },
        {
          "data": {
            "text/plain": [
              "(3,)"
            ]
          },
          "execution_count": 32,
          "metadata": {},
          "output_type": "execute_result"
        }
      ],
      "source": [
        "# Liste os atributos de todos os arrays criados anteriormente\n",
        "# número de dimensões, tipo de dado, tamanho\n",
        "print(array1)\n",
        "print(array1.ndim)\n",
        "print(type(array1))\n",
        "print(array1.size)\n",
        "array1.shape"
      ]
    },
    {
      "cell_type": "code",
      "execution_count": 33,
      "metadata": {},
      "outputs": [
        {
          "name": "stdout",
          "output_type": "stream",
          "text": [
            "[[1 2 3]\n",
            " [4 5 6]]\n",
            "2\n",
            "<class 'numpy.ndarray'>\n",
            "6\n"
          ]
        },
        {
          "data": {
            "text/plain": [
              "(2, 3)"
            ]
          },
          "execution_count": 33,
          "metadata": {},
          "output_type": "execute_result"
        }
      ],
      "source": [
        "# Liste os atributos de todos os arrays criados anteriormente\n",
        "# número de dimensões, tipo de dado, tamanho\n",
        "print(array2)\n",
        "print(array2.ndim)\n",
        "print(type(array2))\n",
        "print(array2.size)\n",
        "array2.shape"
      ]
    },
    {
      "cell_type": "code",
      "execution_count": 39,
      "metadata": {},
      "outputs": [
        {
          "name": "stdout",
          "output_type": "stream",
          "text": [
            "[[[1 2 3]\n",
            "  [4 5 6]\n",
            "  [7 8 9]]]\n",
            "3\n",
            "<class 'numpy.ndarray'>\n",
            "9\n"
          ]
        },
        {
          "data": {
            "text/plain": [
              "(1, 3, 3)"
            ]
          },
          "execution_count": 39,
          "metadata": {},
          "output_type": "execute_result"
        }
      ],
      "source": [
        "# Liste os atributos de todos os arrays criados anteriormente\n",
        "# número de dimensões, tipo de dado, tamanho\n",
        "print(array3)\n",
        "print(array3.ndim)\n",
        "print(type(array3))\n",
        "print(array3.size)\n",
        "array3.shape"
      ]
    },
    {
      "cell_type": "markdown",
      "metadata": {},
      "source": [
        "Quando falar em array, estamos tratando de uma estrutura unimdimensional onde os valores se referem a (número de linhas, número de elementos por linha)"
      ]
    },
    {
      "cell_type": "code",
      "execution_count": 57,
      "metadata": {
        "id": "5idGTgc8dGCr"
      },
      "outputs": [
        {
          "name": "stdout",
          "output_type": "stream",
          "text": [
            "[[1. 1.]\n",
            " [1. 1.]\n",
            " [1. 1.]\n",
            " [1. 1.]\n",
            " [1. 1.]\n",
            " [1. 1.]\n",
            " [1. 1.]\n",
            " [1. 1.]\n",
            " [1. 1.]\n",
            " [1. 1.]]\n"
          ]
        }
      ],
      "source": [
        "# Crie um array de números 1 de shape (10, 2)\n",
        "array4 = np.ones((10,2))\n",
        "print(array4)"
      ]
    },
    {
      "cell_type": "markdown",
      "metadata": {},
      "source": [
        "Para criar uma estrutura que solicite 3 elementos para o shape, teremos (camadas, linhas, colunas). \n",
        "\n",
        "As camadas são o número de arrays dentro de cada array."
      ]
    },
    {
      "cell_type": "code",
      "execution_count": 54,
      "metadata": {
        "id": "xF9j1vXfdQjg"
      },
      "outputs": [
        {
          "data": {
            "text/plain": [
              "array([[[0., 0., 0.],\n",
              "        [0., 0., 0.],\n",
              "        [0., 0., 0.],\n",
              "        [0., 0., 0.]],\n",
              "\n",
              "       [[0., 0., 0.],\n",
              "        [0., 0., 0.],\n",
              "        [0., 0., 0.],\n",
              "        [0., 0., 0.]],\n",
              "\n",
              "       [[0., 0., 0.],\n",
              "        [0., 0., 0.],\n",
              "        [0., 0., 0.],\n",
              "        [0., 0., 0.]],\n",
              "\n",
              "       [[0., 0., 0.],\n",
              "        [0., 0., 0.],\n",
              "        [0., 0., 0.],\n",
              "        [0., 0., 0.]],\n",
              "\n",
              "       [[0., 0., 0.],\n",
              "        [0., 0., 0.],\n",
              "        [0., 0., 0.],\n",
              "        [0., 0., 0.]]])"
            ]
          },
          "execution_count": 54,
          "metadata": {},
          "output_type": "execute_result"
        }
      ],
      "source": [
        "# Crie um array (matriz) de zeros de shape (5, 4, 3)\n",
        "array5 = np.zeros((5,4,3))\n",
        "array5.shape\n",
        "array5\n"
      ]
    },
    {
      "cell_type": "markdown",
      "metadata": {},
      "source": [
        "* Qual a lógica da utilização de únicos ou múltiplos parênteses?"
      ]
    },
    {
      "cell_type": "markdown",
      "metadata": {},
      "source": [
        "Para se criar uma estrutura repetitiva que faça uma quantidade de valores, é necessário usar a função arange. Ela tem formato (0, 100, 3). Onde (início, fim, step). Aqui ele criará um array de 0 a 100 pulando de 3 em 3 valores."
      ]
    },
    {
      "cell_type": "code",
      "execution_count": 58,
      "metadata": {
        "id": "MgvKExKRdV-a"
      },
      "outputs": [
        {
          "data": {
            "text/plain": [
              "array([ 0,  3,  6,  9, 12, 15, 18, 21, 24, 27, 30, 33, 36, 39, 42, 45, 48,\n",
              "       51, 54, 57, 60, 63, 66, 69, 72, 75, 78, 81, 84, 87, 90, 93, 96, 99])"
            ]
          },
          "execution_count": 58,
          "metadata": {},
          "output_type": "execute_result"
        }
      ],
      "source": [
        "# Crie um array com um range entre 0 e 100 e com step 3\n",
        "rangeA5 = np.arange(0, 100, 3)\n",
        "rangeA5"
      ]
    },
    {
      "cell_type": "markdown",
      "metadata": {},
      "source": [
        "Para criar um array de valores aleatórios, é necessário que utilizemos a função random e randint (porque queremos criar com valores inteiros). Depois, indicamos o alcance do número de valores aleatórios que queremos gerar. Por fim, usamos o size para indicar qual o formato do array randômico que estamos criando.\n",
        "\n",
        "Assim, a chamada da função random fica np.random.randint(alcance, formato do array(linhas, número de elementos por linha))"
      ]
    },
    {
      "cell_type": "code",
      "execution_count": 62,
      "metadata": {
        "id": "K44xtwvVdhw_"
      },
      "outputs": [
        {
          "data": {
            "text/plain": [
              "array([[2, 5],\n",
              "       [6, 0],\n",
              "       [3, 2],\n",
              "       [8, 2],\n",
              "       [9, 4],\n",
              "       [4, 0],\n",
              "       [3, 2]])"
            ]
          },
          "execution_count": 62,
          "metadata": {},
          "output_type": "execute_result"
        }
      ],
      "source": [
        "# Crie um array random (com elementos aleatórios) entre 0 e 10 de tamanho (7, 2)\n",
        "randomA6 = np.random.randint(10, size = (7, 2))\n",
        "randomA6"
      ]
    },
    {
      "cell_type": "code",
      "execution_count": 66,
      "metadata": {
        "id": "RzyTNppBdzDB"
      },
      "outputs": [
        {
          "data": {
            "text/plain": [
              "array([[0.53238594, 0.86288317, 0.5652944 ],\n",
              "       [0.10191346, 0.52422438, 0.95534906],\n",
              "       [0.65058655, 0.76330863, 0.43896899],\n",
              "       [0.01779721, 0.98444444, 0.67263693],\n",
              "       [0.4843829 , 0.09785082, 0.8763856 ]])"
            ]
          },
          "execution_count": 66,
          "metadata": {},
          "output_type": "execute_result"
        }
      ],
      "source": [
        "# Crie um array random float com elementos entre 0 e 1 com shape (5, 3)\n",
        "randomA7 = np.random.random((5,3))\n",
        "randomA7"
      ]
    },
    {
      "cell_type": "markdown",
      "metadata": {},
      "source": [
        "Como os valores gerados anteriormente podem ser considerados aleatórios por não parecerem esteticamente harmônicos, existe a função seed, que permite criar elementos aleatórios predeterminados. A função seed é fortemente utilizada para experimentos em machine learning pela necessidade da consistência entre os dados."
      ]
    },
    {
      "cell_type": "markdown",
      "metadata": {},
      "source": [
        "* Como essas linhas de código interagem entre si? Como é possível não atribuir o valor a uma variável ou utilizá-la na declaração ou chamada da função rand, mas o valor ficar restrito na seed 42?"
      ]
    },
    {
      "cell_type": "code",
      "execution_count": 70,
      "metadata": {
        "id": "9S5iob2zd9Ha"
      },
      "outputs": [
        {
          "data": {
            "text/plain": [
              "array([[6, 3, 7],\n",
              "       [4, 6, 9],\n",
              "       [2, 6, 7],\n",
              "       [4, 3, 7],\n",
              "       [7, 2, 5]])"
            ]
          },
          "execution_count": 70,
          "metadata": {},
          "output_type": "execute_result"
        }
      ],
      "source": [
        "# Utilize  o seed com valor 42 e crie um array de números aleatórios entre 0 e 10 de tamanho (5, 3)\n",
        "np.random.seed(42)\n",
        "arrayA8 = np.random.randint(10, size = (5,3))\n",
        "\n",
        "arrayA8\n"
      ]
    },
    {
      "cell_type": "markdown",
      "metadata": {},
      "source": [
        "Em estruturas unidimensionais, chamar o elemento na posição 0, trará o valor do primeiro número do nosso vetor."
      ]
    },
    {
      "cell_type": "code",
      "execution_count": 71,
      "metadata": {
        "id": "tiYVj45FePWD"
      },
      "outputs": [
        {
          "data": {
            "text/plain": [
              "1"
            ]
          },
          "execution_count": 71,
          "metadata": {},
          "output_type": "execute_result"
        }
      ],
      "source": [
        "# Selecione o primeiro elemento do último array que você criou\n",
        "array1[0]"
      ]
    },
    {
      "cell_type": "markdown",
      "metadata": {},
      "source": [
        "Em estruturas multidimensionais, chamar a posição 0 de uma matriz, trará a sua primeira linha. Para obter o elemento da primeira posição da primeira linha é necessário usar arrayA8[0,0]."
      ]
    },
    {
      "cell_type": "markdown",
      "metadata": {},
      "source": [
        "* Por quê?"
      ]
    },
    {
      "cell_type": "code",
      "execution_count": 72,
      "metadata": {
        "id": "uWgtLoDueil4"
      },
      "outputs": [
        {
          "data": {
            "text/plain": [
              "array([6, 3, 7])"
            ]
          },
          "execution_count": 72,
          "metadata": {},
          "output_type": "execute_result"
        }
      ],
      "source": [
        "# Selecione a primeira linha do último array criado\n",
        "arrayA8[0]"
      ]
    },
    {
      "cell_type": "markdown",
      "metadata": {},
      "source": [
        "* No caso, meu último array criado tem 3 elementos por linha, isso significa que não terei como pegar o quarto. Existe alguma forma de fazer isso utilizando o numpy?"
      ]
    },
    {
      "cell_type": "code",
      "execution_count": 77,
      "metadata": {
        "id": "dyRNHEaceoDT"
      },
      "outputs": [
        {
          "data": {
            "text/plain": [
              "array([0, 3, 6, 9])"
            ]
          },
          "execution_count": 77,
          "metadata": {},
          "output_type": "execute_result"
        }
      ],
      "source": [
        "# Selecione do primeiro até o quarto elemento da primeira linha do último array criado\n",
        "rangeA5[0:4]"
      ]
    },
    {
      "cell_type": "code",
      "execution_count": 83,
      "metadata": {
        "id": "lSlQzj1OevrY"
      },
      "outputs": [
        {
          "data": {
            "text/plain": [
              "array([[1., 1., 1., 1., 1.],\n",
              "       [1., 1., 1., 1., 1.],\n",
              "       [1., 1., 1., 1., 1.]])"
            ]
          },
          "execution_count": 83,
          "metadata": {},
          "output_type": "execute_result"
        }
      ],
      "source": [
        "# Crie um novo array usando 'ones' com shape (3, 5)\n",
        "array_ones = np.ones((3,5))\n",
        "array_ones"
      ]
    },
    {
      "cell_type": "markdown",
      "metadata": {},
      "source": [
        "* Para operações entre matrizes, elas devem possuir o mesmo shape? "
      ]
    },
    {
      "cell_type": "code",
      "execution_count": 91,
      "metadata": {
        "id": "l2lpKJf3UEgM"
      },
      "outputs": [
        {
          "name": "stdout",
          "output_type": "stream",
          "text": [
            "[[0. 0. 1. 1. 1.]\n",
            " [1. 0. 1. 1. 1.]\n",
            " [1. 1. 0. 1. 0.]]\n"
          ]
        }
      ],
      "source": [
        "# Subtraia o novo array de outro com dados aleatórios e armazene o resultado em uma variável chamada 'matrix'\n",
        "array_random = np.random.randint(2, size = (3,5))\n",
        "\n",
        "matrix = array_ones - array_random\n",
        "\n",
        "print(matrix)"
      ]
    },
    {
      "cell_type": "code",
      "execution_count": 93,
      "metadata": {
        "id": "pWZJmO-uUT6b"
      },
      "outputs": [
        {
          "data": {
            "text/plain": [
              "0.6666666666666666"
            ]
          },
          "execution_count": 93,
          "metadata": {},
          "output_type": "execute_result"
        }
      ],
      "source": [
        "# Encontre a média usando 'np.mean()' do valores no novo array chamado 'matrix'\n",
        "\n",
        "np.mean(matrix)"
      ]
    },
    {
      "cell_type": "markdown",
      "metadata": {},
      "source": [
        "A transposição inverte a estrutura do array. Se ele tiver 3 linhas e 5 colunas, passa a ter o contrário, 5 linhas e 3 colunas."
      ]
    },
    {
      "cell_type": "code",
      "execution_count": 94,
      "metadata": {
        "id": "5kjMnGZzUj4a"
      },
      "outputs": [
        {
          "data": {
            "text/plain": [
              "array([[0., 1., 1.],\n",
              "       [0., 0., 1.],\n",
              "       [1., 1., 0.],\n",
              "       [1., 1., 1.],\n",
              "       [1., 1., 0.]])"
            ]
          },
          "execution_count": 94,
          "metadata": {},
          "output_type": "execute_result"
        }
      ],
      "source": [
        "# Faça a transposição da 'matrix', usando o método '.T'\n",
        "matrix.T"
      ]
    }
  ],
  "metadata": {
    "colab": {
      "name": "numpy-exercicios",
      "provenance": []
    },
    "kernelspec": {
      "display_name": "Python 3",
      "name": "python3"
    },
    "language_info": {
      "codemirror_mode": {
        "name": "ipython",
        "version": 3
      },
      "file_extension": ".py",
      "mimetype": "text/x-python",
      "name": "python",
      "nbconvert_exporter": "python",
      "pygments_lexer": "ipython3",
      "version": "3.11.4"
    }
  },
  "nbformat": 4,
  "nbformat_minor": 0
}
